{
 "cells": [
  {
   "cell_type": "code",
   "execution_count": null,
   "metadata": {},
   "outputs": [],
   "source": [
    "from sympy import * \n",
    "from sympy.plotting import *\n",
    "init_printing(use_latex=True)  "
   ]
  },
  {
   "cell_type": "markdown",
   "metadata": {},
   "source": [
    "# Revisión de ejercicios de la tarea\n",
    "\n",
    "## Evaluaciones\n",
    "\n",
    "2. $f(x,y)=3x^2-5xy+y^3$ \n",
    "\n",
    "halle el valor de: $f(1,2)$, $f(-1,-5)$ y $f(3,-2)$.\n",
    "\n"
   ]
  },
  {
   "cell_type": "markdown",
   "metadata": {},
   "source": [
    "3. Si $$g(x,y)=e^{2x^2y-5x+2y}$$ \n",
    "\n",
    "evaluar $g$ en los siguientes puntos: $(0,0)$ y $(-1,1)$.\n",
    "\n"
   ]
  },
  {
   "cell_type": "markdown",
   "metadata": {},
   "source": [
    "\n",
    "4. Considere $$h(x,y)=ln(x^2+4x+y^2-1)$$ \n",
    "\n",
    "calcule: \n",
    "\n",
    "$h(1,2)$, $h(0,-0.5)$ y $h\\left(\\frac{1}{2},\\frac{1}{2}\\right)$."
   ]
  },
  {
   "cell_type": "markdown",
   "metadata": {},
   "source": [
    "## Ejercicios Aplicados\n",
    "\n",
    "1. Una empresa produce dos productos, $X$ y $Y$. Las unidades de costos de mano de obra y de materiales\n",
    "   son de 5 dólares en el caso del producto $X$ y de 12 dólares por lo que\n",
    "   respecta a $Y$. Además, la empresa también tiene costos fijos\n",
    "   de  3000 dólares al mes. Exprese el costo mensual $C$ (en dólares)\n",
    "   como una función de las unidades de $X$ y $Y$ producidas.\n",
    "   ¿Cuál es el costo total de producir 200 unidades de $X$ y 150\n",
    "   unidades de $Y$?\n",
    "\n"
   ]
  },
  {
   "cell_type": "markdown",
   "metadata": {},
   "source": [
    "2. Se lanza un nuevo producto al mercado. El volumen de ventas $x$ se incrementa como una función del tiempo $t$ y depende        también de la cantidad $A$ gastada en la campaña publicitaria. Si, con $t$ medido en meses y A en dólares,\n",
    "   \n",
    "   $$x=200(5-e^{-0.002A})(1-e^{-t})$$\n",
    "   \n",
    "   Determine el volumen de ventas si ha transcurrido 1 mes y la inversión fue de 400 dólares.\n",
    "\n"
   ]
  },
  {
   "cell_type": "markdown",
   "metadata": {},
   "source": [
    "3. La función de producción de cierta empresa está dada por\n",
    "   \n",
    "   $$P=5L + 2L^2+ 3LK + 8K + 3K^2$$\n",
    "   \n",
    "   en donde $L$ es el insumo mano de obra medido en miles de horas-hombre por semana, $K$ es el monto de capital invertido        medido en miles de dólares por semana y $P$ es la producción semanal en miles de artículos. Determine la productividad          cuando $L=5$ y $K=12$.\n",
    "   \n"
   ]
  },
  {
   "cell_type": "markdown",
   "metadata": {},
   "source": [
    "4. Suponga que el costo de producción de una empresa que fabrica    dos artículos $A$ y $B$ viene dada por\n",
    "\n",
    "   $$C(x, y) = 1500 -7.5x- 15y-0.3xy+0.3x^2 + 0.2y^2$$\n",
    "\n",
    "   Si la empresa puede vender cada unidad de $A$ a 20 dólares y      cada unidad de $B$ a\n",
    "   16 dólares, encuentre la función de utilidad por la producción    y venta de los articulos $A$ y $B$.\n",
    "   \n"
   ]
  },
  {
   "cell_type": "markdown",
   "metadata": {},
   "source": [
    "5. Juguetes Mónica produce dos tipos diferentes de\n",
    "   cochecitos de plástico con un costo de 300 pesos y 900 pesos      cada uno. Las demandas anuales $x_1$ y $x_2$ (en miles) están    dadas por\n",
    "\n",
    "    $$x_1 = 30 + 2p_2 - 5p_1 \\ \\ \\ \\  y \\ \\ \\ \\ x_2 = 100 + p_1 -     2p_2 $$\n",
    "\n",
    "   con $p_1$ y $p_2$ los precios unitarios (en pesos) de los dos    tipos de cochecitos. Determine la utilidad en función de los      precios $p_1$ y $p_2$. \n"
   ]
  },
  {
   "cell_type": "markdown",
   "metadata": {},
   "source": [
    "6. Los costos de producción de una empresa que fabrica los artículos $A,\\ B,\\ C$ y $D$ vienen dados por \n",
    "$$C(x,y,z,w)=0.1x+2.2y+1.7z+4w+2xy+0.5zw+2000$$\n",
    "    siendo $x,\\ y,\\ z$ y $w$ la cantidad de artículos producidos de los productos $A,\\ B,\\ C$ y $D$ respectivamente. Halle el costo de fabricar 200 unidades de $A$, 450 de $B$, 635 de $C$, y 1230 de $D$.\n"
   ]
  },
  {
   "cell_type": "markdown",
   "metadata": {},
   "source": [
    "7. Halle la función de utilidades de la empresa del punto anterior si se sabe que los productos $A,\\ B,\\ C$ y $D$ se pueden vender cada uno a $2\\ ,3\\ ,2$ y $6$ dólares cada uno."
   ]
  },
  {
   "cell_type": "markdown",
   "metadata": {},
   "source": [
    "# Derivadas parciales y su significado\n",
    "\n",
    "Cuando calculamos la derivada parcial de una función encontramos las funciones marginales de la función dada.\n",
    "\n",
    "Cuando cálculamos $f_x$ estamos encontrando la razón de cambio en la función $f$ si cambiamos el valor de $x$ a la siguiente unidad, mientras que todas las demás variables se mantienen iguales.\n",
    "\n",
    "La interpretación es análoga para todas las derivadas parciales."
   ]
  },
  {
   "cell_type": "code",
   "execution_count": null,
   "metadata": {},
   "outputs": [],
   "source": [
    "x,y=symbols(\"x,y\")"
   ]
  },
  {
   "cell_type": "code",
   "execution_count": null,
   "metadata": {},
   "outputs": [],
   "source": [
    "f=x**2+2*x*y+3*y\n",
    "f"
   ]
  },
  {
   "cell_type": "code",
   "execution_count": null,
   "metadata": {},
   "outputs": [],
   "source": [
    "f.subs([(x,10), (y,15)])"
   ]
  },
  {
   "cell_type": "code",
   "execution_count": null,
   "metadata": {},
   "outputs": [],
   "source": [
    "dfx=diff(f,x)\n",
    "dfx"
   ]
  },
  {
   "cell_type": "code",
   "execution_count": null,
   "metadata": {},
   "outputs": [],
   "source": [
    "dfx.subs([(x,10), (y,15)]) "
   ]
  },
  {
   "cell_type": "markdown",
   "metadata": {},
   "source": [
    "Significa que la función $f$ incrementa aproximadamente 50 unidades si aplicamos un cambio en $x$ de 10 a 11 unidades, mientras que $y$ se mantiene en 15."
   ]
  },
  {
   "cell_type": "code",
   "execution_count": null,
   "metadata": {},
   "outputs": [],
   "source": [
    "f.subs([(x,11), (y,15)])"
   ]
  },
  {
   "cell_type": "code",
   "execution_count": null,
   "metadata": {},
   "outputs": [],
   "source": [
    "dfy=diff(f,y)\n",
    "dfy"
   ]
  },
  {
   "cell_type": "code",
   "execution_count": null,
   "metadata": {},
   "outputs": [],
   "source": [
    "dfy.subs([(x,10), (y,15)]) "
   ]
  },
  {
   "cell_type": "markdown",
   "metadata": {},
   "source": [
    "Significa que la función $f$ incrementa aproximadamente 23 unidades si aplicamos un cambio en $y$ de 15 a 16 unidades, mientras que $x$ se mantiene en 10."
   ]
  },
  {
   "cell_type": "code",
   "execution_count": null,
   "metadata": {},
   "outputs": [],
   "source": [
    "f.subs([(x,10), (y,16)]) "
   ]
  },
  {
   "cell_type": "markdown",
   "metadata": {},
   "source": [
    "## Ejercicio\n",
    "La función de producción de cierta empresa está dada por\n",
    "$$P=5L + 3L^2 + 4LK + 8K + 6K^2$$\n",
    "en donde $L$ es el insumo mano de obra medido en miles de horas-hombre por semana, $K$ es el monto de capital invertido medido en miles de dólares por semana y P\n",
    "es la producción semanal en miles de artículos. Determine las productividades marginales cuando $L=10$ y $K=15$ e interprete el resultado."
   ]
  },
  {
   "cell_type": "markdown",
   "metadata": {},
   "source": [
    "## Ejercicio\n",
    "\n",
    "Se descubre que la utilidad por\n",
    "acre de cierto cultivo de trigo es\n",
    "$$P =40L + 5S + 20F - 3L^2 - S^ 2 - 2F^2 - 4SF$$\n",
    "en donde L es el costo de la mano de obra, S es el costo de\n",
    "la semilla y F es el costo del fertilizante. \n",
    "\n",
    "Calcule $P_L$, $P_S$, $P_F$, \n",
    " y evalúelas cuando $L = 10$, $S = 3$ y $F = 4$.\n",
    " \n",
    "Interprete estas derivadas."
   ]
  },
  {
   "cell_type": "markdown",
   "metadata": {},
   "source": [
    "# Relaciones de demanda\n",
    "\n",
    "\n",
    "## Productos competitivos y complementarios\n",
    "\n",
    "Antes supusimos\n",
    "que la demanda de un artículo sólo depende del precio por unidad del artículo\n",
    "particular. En la práctica, esto no siempre es cierto porque la demanda de un\n",
    "artículo puede verse afectada por el precio de algún otro artículo relacionado. \n",
    "\n",
    "### Ejemplo\n",
    "\n",
    "Suponga que hay dos marcas de celulares, marca A y marca B, las cuales son las líderes a nivel mundial en celulares de alta gama. \n",
    "\n",
    "¿Qué sucede con la demanda de la marca A, si ella aumenta el precio de sus celulares?\n",
    "\n",
    "*R:* La demanda debería disminuir. Lo mismo ocurriría para la marca B.\n",
    "\n",
    "Este hecho se puede entender matemáticamente como que la derivada de la demanda de A respecto al precio de A es negativa, lo mismo para el producto de la marca B:\n",
    "\n",
    "$$\\frac{\\partial X_A}{\\partial P_A}<0;\\ \\ \\ \\frac{\\partial X_B}{\\partial P_B}<0$$\n",
    "\n",
    "Esto es normal que suceda con cualquier producto.\n",
    "\n",
    "\n",
    "¿Qué sucede con la demanda de la marca A si B aumenta su precio?\n",
    "\n",
    "*R:* La demanda de A debería aumentar cuando B aumente su precio. De manera análoga sucedería con la demanda de B si A aumenta su precio.\n",
    "\n",
    "$$\\frac{\\partial X_A}{\\partial P_B}>0;\\ \\ \\ \\frac{\\partial X_B}{\\partial P_A}>0$$\n",
    "\n",
    "Cuando esto sucede se dice que los productos son **COMPETITIVOS**.\n",
    "\n"
   ]
  },
  {
   "cell_type": "markdown",
   "metadata": {},
   "source": [
    "### Ejemplo\n",
    "\n",
    "Suponga que se tienen dos productos, A el cual es un celular y B el forro protector del mismo.\n",
    "\n",
    "¿Qué sucede con la demanda de los forros si el precio del celular aumenta?\n",
    "\n",
    "*R:* Al aumentar el precio de A (los celulares), la demanda de A  disminuye y  por lo tanto la demanda de B (los forros) disminuye, es decir\n",
    "\n",
    "$$\\frac{\\partial X_A}{\\partial P_B}<0;\\ \\ \\ \\frac{\\partial X_B}{\\partial P_A}<0$$\n",
    "\n",
    "Cuando esto sucede los productos se dicen **COMPLEMENTARIOS**\n",
    "\n",
    "\n",
    "\n"
   ]
  },
  {
   "cell_type": "markdown",
   "metadata": {},
   "source": [
    "## Ejemplo\n",
    "Las demandas $x_A$ y $x_B$ de los productos $A$ y $B$ están dadas por las funciones\n",
    "\n",
    "$$x_A= 300 + 5p_B - 7p_A^2;\\ \\ \\ x_B = 250 - 9p_B + 2p_A$$\n",
    "\n",
    "en donde $p_A$ y $p_B$ son los precios unitarios de $A$ y $B$, respectivamente. \n",
    "\n",
    "Determine las cuatro funciones de demanda marginal e investigue si los productos $A$ y $B$ son competitivos o complementarios entre sí.\n",
    "\n"
   ]
  },
  {
   "cell_type": "markdown",
   "metadata": {},
   "source": [
    "## Ejercicio\n",
    "\n",
    "Las demandas $x_A$ y $x_B$ de los productos $A$ y $B$ están dadas por las funciones\n",
    "\n",
    "$$x_A= 150 - 0.3p^2_B - 2p^2_A;\\ \\ \\ x_B = 200 - 0.2p^2_A - 3p^2_B$$\n",
    "\n",
    "en donde $p_A$ y $p_B$ son los precios unitarios de $A$ y $B$, respectivamente. \n",
    "\n",
    "Determine las cuatro funciones de demanda marginal e investigue si los productos $A$ y $B$ son competitivos o complementarios entre sí."
   ]
  },
  {
   "cell_type": "markdown",
   "metadata": {},
   "source": [
    "## Elasticidad\n",
    "\n",
    "La elasticidad de la demanda mide que tan sensible es un producto repecto al cambio en el precio.\n",
    "\n",
    "Si la demanda del producto $A$ depende de los precios $P_A$ y $P_B$ ésta se puede derivar respecto a cualquiera de las dos varibles, por lo que es posible calcular dos razones de cambio porcentuales:\n",
    "\n",
    "1. **Elasticidad de la demanda de A** la cual se define como:\n",
    "$$\\eta_{p_A}=\\frac{\\ \\frac{\\partial x_A}{\\partial p_A}\\ }{\\frac{x_A}{p_A}}=\\ \\frac{\\partial x_A}{\\partial p_A}\\frac{p_A}{x_A}$$\n",
    "\n",
    "2. **Elasticidad de la demanda cruzada de A** la cual se puede ver como:\n",
    "$$\\eta_{p_B}=\\frac{\\ \\frac{\\partial x_A}{\\partial p_B}\\ }{\\frac{x_A}{p_B}}=\\ \\frac{\\partial x_A}{\\partial p_B}\\frac{p_B}{x_A}$$\n",
    "\n",
    "Cuando:\n",
    "* $|\\eta_{p_A}|>1$ el producto se dice elástico.\n",
    "* $|\\eta_{p_A}|<1$ se conoce como inelástico.\n",
    "*  $|\\eta_{p_A}|=1$ la demanda se dice unitaria.\n",
    "\n",
    "Por ejemplo, si $\\eta_{p_A}=-3$ se interpreta como que un aumento del $1\\%$ en el precio implica una caída del $3\\%$ en las ventas del producto.\n",
    "\n"
   ]
  },
  {
   "cell_type": "markdown",
   "metadata": {},
   "source": [
    "## Ejemplo\n",
    "La función de demanda del producto A está dada por\n",
    "$$x_A = 250 +0.3p_B - 5p^2_A$$\n",
    "\n",
    "Determine $\\eta_{p_A}$ y $\\eta_{p_B}$ cuando $p_A = 6$ y $p_B = 50$."
   ]
  },
  {
   "cell_type": "code",
   "execution_count": null,
   "metadata": {},
   "outputs": [],
   "source": [
    "pA,pB = symbols(\"pA,pB\")"
   ]
  },
  {
   "cell_type": "code",
   "execution_count": null,
   "metadata": {},
   "outputs": [],
   "source": [
    "xA=250+0.3*pB-5*pA**2\n",
    "xA"
   ]
  },
  {
   "cell_type": "code",
   "execution_count": null,
   "metadata": {},
   "outputs": [],
   "source": [
    "dxApA=diff(xA,pA)\n",
    "dxApA"
   ]
  },
  {
   "cell_type": "code",
   "execution_count": null,
   "metadata": {},
   "outputs": [],
   "source": [
    "dxApB=diff(xA,pB)\n",
    "dxApB"
   ]
  },
  {
   "cell_type": "markdown",
   "metadata": {},
   "source": [
    "**Elasticidad de la demanda de A** la cual se define como:\n",
    "$$\\eta_{p_A}=\\frac{\\ \\frac{\\partial x_A}{\\partial p_A}\\ }{\\frac{x_A}{p_A}}=\\ \\frac{\\partial x_A}{\\partial p_A}\\frac{p_A}{x_A}$$"
   ]
  },
  {
   "cell_type": "code",
   "execution_count": null,
   "metadata": {},
   "outputs": [],
   "source": [
    "npA=(dxApA)/(xA/pA)\n",
    "npA"
   ]
  },
  {
   "cell_type": "code",
   "execution_count": null,
   "metadata": {},
   "outputs": [],
   "source": [
    "npA.subs([(pA, 6),(pB, 50)])"
   ]
  },
  {
   "cell_type": "markdown",
   "metadata": {},
   "source": [
    "Podemos decir que un incremento aproximado del 1% en el precio de A\n",
    "provocará una caída del 4.24% en la demanda de este producto."
   ]
  },
  {
   "cell_type": "markdown",
   "metadata": {},
   "source": [
    "**Elasticidad de la demanda cruzada de A** la cual se puede ver como:\n",
    "$$\\eta_{p_B}=\\frac{\\ \\frac{\\partial x_A}{\\partial p_B}\\ }{\\frac{x_A}{p_B}}=\\ \\frac{\\partial x_A}{\\partial p_B}\\frac{p_B}{x_A}$$"
   ]
  },
  {
   "cell_type": "code",
   "execution_count": null,
   "metadata": {},
   "outputs": [],
   "source": [
    "npB=(dxApB)/(xA/pB)\n",
    "npB"
   ]
  },
  {
   "cell_type": "code",
   "execution_count": null,
   "metadata": {},
   "outputs": [],
   "source": [
    "npB.subs([(pA, 6),(pB, 50)])"
   ]
  },
  {
   "cell_type": "markdown",
   "metadata": {},
   "source": [
    "Un incremento\n",
    "del 1% en el precio de B da como resultado un aumento del 0.176% en la\n",
    "demanda de A."
   ]
  },
  {
   "cell_type": "markdown",
   "metadata": {},
   "source": [
    "## Ejercicio\n",
    "\n",
    "En el caso de las siguientes\n",
    "funciones de demanda del producto A, determine $\\eta_{p_A}$ y $\\eta_{p_B}$\n",
    "en los niveles de precio dados para los dos productos relacionados\n",
    "A y B.\n",
    "\n",
    "1. $x_A = 250 + 0.3p_B + 2p^2_A; p_A = 5, p_B =40$\n",
    "2. $x_A = \\cfrac{60p_B}{\\sqrt{p_A}}; p_A = 9, p_B =2$\n",
    "\n",
    "En cada caso interprete sus resultados."
   ]
  }
 ],
 "metadata": {
  "kernelspec": {
   "display_name": "Python 3",
   "language": "python",
   "name": "python3"
  },
  "language_info": {
   "codemirror_mode": {
    "name": "ipython",
    "version": 3
   },
   "file_extension": ".py",
   "mimetype": "text/x-python",
   "name": "python",
   "nbconvert_exporter": "python",
   "pygments_lexer": "ipython3",
   "version": "3.7.3"
  },
  "latex_envs": {
   "LaTeX_envs_menu_present": true,
   "autoclose": false,
   "autocomplete": true,
   "bibliofile": "biblio.bib",
   "cite_by": "apalike",
   "current_citInitial": 1,
   "eqLabelWithNumbers": true,
   "eqNumInitial": 1,
   "hotkeys": {
    "equation": "Ctrl-E",
    "itemize": "Ctrl-I"
   },
   "labels_anchors": false,
   "latex_user_defs": false,
   "report_style_numbering": false,
   "user_envs_cfg": false
  },
  "toc": {
   "base_numbering": 1,
   "nav_menu": {},
   "number_sections": true,
   "sideBar": true,
   "skip_h1_title": false,
   "title_cell": "Table of Contents",
   "title_sidebar": "Contents",
   "toc_cell": false,
   "toc_position": {},
   "toc_section_display": true,
   "toc_window_display": false
  }
 },
 "nbformat": 4,
 "nbformat_minor": 2
}
